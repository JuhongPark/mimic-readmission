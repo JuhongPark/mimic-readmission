{
 "cells": [
  {
   "cell_type": "code",
   "execution_count": 1,
   "metadata": {},
   "outputs": [],
   "source": [
    "# Settings\n",
    "import pickle\n",
    "import pandas as pd\n",
    "import numpy as np\n",
    "from gensim.models import KeyedVectors\n",
    "import scispacy\n",
    "import spacy\n",
    "from functools import reduce\n",
    "import swifter\n",
    "import sys\n",
    "from spacy import displacy\n",
    "import en_ner_bc5cdr_md"
   ]
  },
  {
   "cell_type": "code",
   "execution_count": 2,
   "metadata": {},
   "outputs": [],
   "source": [
    "# Load WV\n",
    "filename = '/home/mimic/Downloads/BioWordVec/BioWordVec_PubMed_MIMICIII_d200.vec.bin'\n",
    "wv_model = KeyedVectors.load_word2vec_format(filename, binary=True)"
   ]
  },
  {
   "cell_type": "code",
   "execution_count": 3,
   "metadata": {},
   "outputs": [],
   "source": [
    "# Load NLP\n",
    "nlp_model = en_ner_bc5cdr_md.load()\n",
    "file_code = 'bc5cdr'"
   ]
  },
  {
   "cell_type": "markdown",
   "metadata": {},
   "source": [
    "# WV Code block\n",
    "```\n",
    "from gensim.models import KeyedVectors\n",
    "\n",
    "filename = '/home/mimic/Downloads/BioWordVec/BioWordVec_PubMed_MIMICIII_d200.vec.bin'\n",
    "wv_model = KeyedVectors.load_word2vec_format(filename, binary=True)\n",
    "word = \"\"\n",
    "wv_model.get_vector(word.lower())\n",
    "```"
   ]
  },
  {
   "cell_type": "code",
   "execution_count": 4,
   "metadata": {},
   "outputs": [],
   "source": [
    "train_data_path = '/home/mimic/Data/NOTEEVENTS_all_fold0/train_notes_seq.pickle'\n",
    "val_data_path = '/home/mimic/Data/NOTEEVENTS_all_fold0/val_notes_seq.pickle'\n",
    "test_data_path = '/home/mimic/Data/NOTEEVENTS_all_fold0/test_notes_seq.pickle'\n",
    "\n",
    "with open(train_data_path, 'rb') as f:\n",
    "    train_data = pickle.load(f)\n",
    "    \n",
    "with open(val_data_path, 'rb') as f:\n",
    "    val_data = pickle.load(f)\n",
    "\n",
    "with open(test_data_path, 'rb') as f:\n",
    "    test_data = pickle.load(f)"
   ]
  },
  {
   "cell_type": "code",
   "execution_count": 32,
   "metadata": {},
   "outputs": [],
   "source": [
    "match_list = ['CHIEF COMPLAINT:',\n",
    "'History of Present Illness:',\n",
    "'Past Medical History:',\n",
    "'Social History:',\n",
    "'Family History:',\n",
    "'Physical Exam:',\n",
    "'Pertinent Results:',\n",
    "'Brief Hospital Course:',\n",
    "'Discharge Medication:',\n",
    "'Discharge Diagnosis:',\n",
    "'Discharge Condition:',\n",
    "'Followup Instructions:',\n",
    "'PAST MEDICAL HISTORY:'\n",
    "'MEDICATIONS ON ADMISSION:',\n",
    "'DISCHARGE CONDITION:',\n",
    "'DISCHARGE DIAGNOSES:',\n",
    "'DISCHARGE MEDICATIONS:']\n",
    "match_list = list(set([w.lower() for w in match_list]))  # matching을 위해 소문자로 변경, 중복 인원으로부터 리스트를 단순 병합하므로 unique 수행\n",
    "\n",
    "def get_matched(text):\n",
    "    text_split = text.split('\\n\\n')\n",
    "    \n",
    "    is_keep = False  # 저장해야하는 단락인지 구분\n",
    "    for text_in in text_split:\n",
    "        # match_list 키워드가 있는 경우에 저장, matching을 위해 소문자로 변경하고 원문 형태는 유지\n",
    "        text_in_lower = text_in.lower()\n",
    "        if any(match_key in text_in_lower  for match_key in match_list):\n",
    "            is_keep = True  # match에 해당하는 단락이므로 저장\n",
    "            continue\n",
    "        else: \n",
    "            if ':' in text_in:  # match가 아닌 새로운 단락이므로 제거\n",
    "                text_split.remove(text_in)\n",
    "                is_keep = False  # 저장할 필요 없는 단락이므로 제거\n",
    "            else:\n",
    "                if is_keep:  # 저장할 단락인지 여부에 따라 저장하거나 제거\n",
    "                    continue\n",
    "                else:\n",
    "                    text_split.remove(text_in)\n",
    "    text = '\\n\\n'.join(text_split)\n",
    "    unique_ner= set([str(ent).lower() for ent in nlp_model(text).ents])  # 향후 wv을 위해 소문자로 변경, wv모델이 소문자만 허용\n",
    "    \n",
    "    return unique_ner\n",
    "\n",
    "def convert_to_vector(word_list):\n",
    "    vector_list = []\n",
    "    for word in word_list:\n",
    "        try:\n",
    "            vector_list.append(wv_model.get_vector(word))\n",
    "        except KeyError:\n",
    "            continue\n",
    "    vector_list = [0]  if len(vector_list) == 0 else vector_list # 낮은 확률도 빈 값이 가능, 빈 값은 0으로 조정\n",
    "    return np.mean(vector_list, axis=0, dtype=np.float64)"
   ]
  },
  {
   "cell_type": "code",
   "execution_count": 6,
   "metadata": {},
   "outputs": [
    {
     "name": "stdout",
     "output_type": "stream",
     "text": [
      "CPU times: user 18.8 ms, sys: 11.3 ms, total: 30 ms\n",
      "Wall time: 33.9 ms\n"
     ]
    }
   ],
   "source": [
    "%%time\n",
    "total_data = pd.concat([train_data, val_data,  test_data])"
   ]
  },
  {
   "cell_type": "code",
   "execution_count": 7,
   "metadata": {},
   "outputs": [
    {
     "name": "stdout",
     "output_type": "stream",
     "text": [
      "CPU times: user 330 ms, sys: 22.7 ms, total: 353 ms\n",
      "Wall time: 359 ms\n"
     ]
    }
   ],
   "source": [
    "%%time\n",
    "text_df = total_data[['SUBJECT_ID', 'HADM_ID', 'ICUSTAY_ID', 'TEXT']]\\\n",
    "    .groupby(['SUBJECT_ID', 'HADM_ID', 'ICUSTAY_ID'])\\\n",
    "    .agg('\\n\\n'.join)\\\n",
    "    .reset_index()"
   ]
  },
  {
   "cell_type": "code",
   "execution_count": 8,
   "metadata": {},
   "outputs": [
    {
     "data": {
      "application/vnd.jupyter.widget-view+json": {
       "model_id": "595beeb092814b82a76223246f3e7453",
       "version_major": 2,
       "version_minor": 0
      },
      "text/plain": [
       "HBox(children=(HTML(value='Pandas Apply'), FloatProgress(value=0.0, max=37981.0), HTML(value='')))"
      ]
     },
     "metadata": {},
     "output_type": "display_data"
    },
    {
     "name": "stdout",
     "output_type": "stream",
     "text": [
      "\n",
      "CPU times: user 2h 15min 59s, sys: 2min 53s, total: 2h 18min 53s\n",
      "Wall time: 2h 18min 36s\n"
     ]
    }
   ],
   "source": [
    "%%time\n",
    "text_df['word_list'] = text_df['TEXT'].swifter.apply(lambda text: get_matched(text))\n",
    "with open('/home/mimic/Data/pickle/text_df.pk', 'wb') as f:\n",
    "    pickle.dump(text_df, f, pickle.HIGHEST_PROTOCOL)"
   ]
  },
  {
   "cell_type": "code",
   "execution_count": 9,
   "metadata": {
    "scrolled": true
   },
   "outputs": [
    {
     "data": {
      "application/vnd.jupyter.widget-view+json": {
       "model_id": "d1ab3b03623545afaaf10bc9c2d47fd8",
       "version_major": 2,
       "version_minor": 0
      },
      "text/plain": [
       "HBox(children=(HTML(value='Pandas Apply'), FloatProgress(value=0.0, max=37981.0), HTML(value='')))"
      ]
     },
     "metadata": {},
     "output_type": "display_data"
    },
    {
     "name": "stdout",
     "output_type": "stream",
     "text": [
      "\n",
      "CPU times: user 6.98 s, sys: 552 ms, total: 7.53 s\n",
      "Wall time: 8.96 s\n"
     ]
    }
   ],
   "source": [
    "%%time\n",
    "text_df['mean_wv']  = text_df['word_list'].swifter.apply(lambda word_list : convert_to_vector(word_list))\n",
    "with open('/home/mimic/Data/pickle/discharge_note_wv.pk', 'wb') as f:\n",
    "    pickle.dump(text_df, f, pickle.HIGHEST_PROTOCOL)"
   ]
  },
  {
   "cell_type": "code",
   "execution_count": 4,
   "metadata": {},
   "outputs": [
    {
     "data": {
      "text/html": [
       "<div>\n",
       "<style scoped>\n",
       "    .dataframe tbody tr th:only-of-type {\n",
       "        vertical-align: middle;\n",
       "    }\n",
       "\n",
       "    .dataframe tbody tr th {\n",
       "        vertical-align: top;\n",
       "    }\n",
       "\n",
       "    .dataframe thead th {\n",
       "        text-align: right;\n",
       "    }\n",
       "</style>\n",
       "<table border=\"1\" class=\"dataframe\">\n",
       "  <thead>\n",
       "    <tr style=\"text-align: right;\">\n",
       "      <th></th>\n",
       "      <th>SUBJECT_ID</th>\n",
       "      <th>HADM_ID</th>\n",
       "      <th>ICUSTAY_ID</th>\n",
       "      <th>TEXT</th>\n",
       "      <th>word_list</th>\n",
       "      <th>mean_wv</th>\n",
       "    </tr>\n",
       "  </thead>\n",
       "  <tbody>\n",
       "    <tr>\n",
       "      <th>0</th>\n",
       "      <td>3</td>\n",
       "      <td>145834.0</td>\n",
       "      <td>211552</td>\n",
       "      <td>Admission Date:  [**2101-10-20**]     Discharg...</td>\n",
       "      <td>{q.4, 3-vessel disease, metoprolol, atenolol, ...</td>\n",
       "      <td>[0.320220878461794, 0.03231701895366518, -0.28...</td>\n",
       "    </tr>\n",
       "    <tr>\n",
       "      <th>1</th>\n",
       "      <td>4</td>\n",
       "      <td>185777.0</td>\n",
       "      <td>294638</td>\n",
       "      <td>Admission Date:  [**2191-3-16**]     Discharge...</td>\n",
       "      <td>{lantus, rash, fatigue, pneumocystis carinii, ...</td>\n",
       "      <td>[0.21231900266296155, 0.11549778116514554, -0....</td>\n",
       "    </tr>\n",
       "    <tr>\n",
       "      <th>2</th>\n",
       "      <td>12</td>\n",
       "      <td>112213.0</td>\n",
       "      <td>232669</td>\n",
       "      <td>Admission Date:  [**2104-8-7**]     Discharge ...</td>\n",
       "      <td>{allopurinol, atenolol, lymphadenopathy, cyano...</td>\n",
       "      <td>[0.17977227432032425, 0.3296726663907369, -0.3...</td>\n",
       "    </tr>\n",
       "    <tr>\n",
       "      <th>3</th>\n",
       "      <td>13</td>\n",
       "      <td>143045.0</td>\n",
       "      <td>263738</td>\n",
       "      <td>Admission Date:  [**2167-1-8**]       Discharg...</td>\n",
       "      <td>{back pain, metoprolol, euglycemia, atenolol, ...</td>\n",
       "      <td>[0.33918255337170866, 0.19825733437104837, -0....</td>\n",
       "    </tr>\n",
       "    <tr>\n",
       "      <th>4</th>\n",
       "      <td>17</td>\n",
       "      <td>161087.0</td>\n",
       "      <td>257980</td>\n",
       "      <td>Admission Date:  [**2135-5-9**]              D...</td>\n",
       "      <td>{pleural effusion, metoprolol tartrate, cardio...</td>\n",
       "      <td>[-0.0037960425357926974, 0.27882304292341525, ...</td>\n",
       "    </tr>\n",
       "  </tbody>\n",
       "</table>\n",
       "</div>"
      ],
      "text/plain": [
       "   SUBJECT_ID   HADM_ID  ICUSTAY_ID  \\\n",
       "0           3  145834.0      211552   \n",
       "1           4  185777.0      294638   \n",
       "2          12  112213.0      232669   \n",
       "3          13  143045.0      263738   \n",
       "4          17  161087.0      257980   \n",
       "\n",
       "                                                TEXT  \\\n",
       "0  Admission Date:  [**2101-10-20**]     Discharg...   \n",
       "1  Admission Date:  [**2191-3-16**]     Discharge...   \n",
       "2  Admission Date:  [**2104-8-7**]     Discharge ...   \n",
       "3  Admission Date:  [**2167-1-8**]       Discharg...   \n",
       "4  Admission Date:  [**2135-5-9**]              D...   \n",
       "\n",
       "                                           word_list  \\\n",
       "0  {q.4, 3-vessel disease, metoprolol, atenolol, ...   \n",
       "1  {lantus, rash, fatigue, pneumocystis carinii, ...   \n",
       "2  {allopurinol, atenolol, lymphadenopathy, cyano...   \n",
       "3  {back pain, metoprolol, euglycemia, atenolol, ...   \n",
       "4  {pleural effusion, metoprolol tartrate, cardio...   \n",
       "\n",
       "                                             mean_wv  \n",
       "0  [0.320220878461794, 0.03231701895366518, -0.28...  \n",
       "1  [0.21231900266296155, 0.11549778116514554, -0....  \n",
       "2  [0.17977227432032425, 0.3296726663907369, -0.3...  \n",
       "3  [0.33918255337170866, 0.19825733437104837, -0....  \n",
       "4  [-0.0037960425357926974, 0.27882304292341525, ...  "
      ]
     },
     "execution_count": 4,
     "metadata": {},
     "output_type": "execute_result"
    }
   ],
   "source": [
    "# Load from pk\n",
    "discharge_note_wv_path = '/home/mimic/Data/pickle/discharge_note_wv.pk'\n",
    "with open(discharge_note_wv_path, 'rb') as f:\n",
    "    result_df = pickle.load(f)\n",
    "result_df.head()"
   ]
  },
  {
   "cell_type": "code",
   "execution_count": 55,
   "metadata": {},
   "outputs": [],
   "source": [
    "def get_code_set(file_name):\n",
    "    code_df = pd.read_csv(file_name)\n",
    "    if 'TOTAL' in code_df.columns:\n",
    "        code_df['m'] = code_df['TOTAL']  # Input 종류마다 대응을 위해 추가\n",
    "        code_df['w'] = code_df['0']\n",
    "    code_df = code_df[['w', 'm']]\n",
    "    code_df = code_df[code_df['m'] > 0]  # 0 이하는 버림\n",
    "    return set(code_df['w'])"
   ]
  },
  {
   "cell_type": "code",
   "execution_count": 65,
   "metadata": {},
   "outputs": [],
   "source": [
    "# Select code\n",
    "note_300 = get_code_set('/home/mimic/Data/csv/m300.csv')\n",
    "note_400 = get_code_set('/home/mimic/Data/csv/m400.csv')\n",
    "note_500 = get_code_set('/home/mimic/Data/csv/m500.csv')\n",
    "note_600 = get_code_set('/home/mimic/Data/csv/m600.csv')\n",
    "note_900 = get_code_set('/home/mimic/Data/csv/m900.csv')"
   ]
  },
  {
   "cell_type": "code",
   "execution_count": 66,
   "metadata": {},
   "outputs": [
    {
     "data": {
      "text/plain": [
       "(320, 401, 527, 601, 934)"
      ]
     },
     "execution_count": 66,
     "metadata": {},
     "output_type": "execute_result"
    }
   ],
   "source": [
    "len(note_300), len(note_400), len(note_500), len(note_600), len(note_900)"
   ]
  },
  {
   "cell_type": "code",
   "execution_count": 67,
   "metadata": {},
   "outputs": [
    {
     "data": {
      "application/vnd.jupyter.widget-view+json": {
       "model_id": "5fcb213a1d9c482899336f9990b68f85",
       "version_major": 2,
       "version_minor": 0
      },
      "text/plain": [
       "HBox(children=(HTML(value='Pandas Apply'), FloatProgress(value=0.0, max=37981.0), HTML(value='')))"
      ]
     },
     "metadata": {},
     "output_type": "display_data"
    },
    {
     "name": "stdout",
     "output_type": "stream",
     "text": [
      "\n"
     ]
    },
    {
     "data": {
      "application/vnd.jupyter.widget-view+json": {
       "model_id": "04ceaa3624a44a54b898c1f71d5e3f2e",
       "version_major": 2,
       "version_minor": 0
      },
      "text/plain": [
       "HBox(children=(HTML(value='Pandas Apply'), FloatProgress(value=0.0, max=37981.0), HTML(value='')))"
      ]
     },
     "metadata": {},
     "output_type": "display_data"
    },
    {
     "name": "stdout",
     "output_type": "stream",
     "text": [
      "\n"
     ]
    },
    {
     "data": {
      "application/vnd.jupyter.widget-view+json": {
       "model_id": "f43766e3e117443897452fea2e67ec68",
       "version_major": 2,
       "version_minor": 0
      },
      "text/plain": [
       "HBox(children=(HTML(value='Pandas Apply'), FloatProgress(value=0.0, max=37981.0), HTML(value='')))"
      ]
     },
     "metadata": {},
     "output_type": "display_data"
    },
    {
     "name": "stdout",
     "output_type": "stream",
     "text": [
      "\n"
     ]
    },
    {
     "data": {
      "application/vnd.jupyter.widget-view+json": {
       "model_id": "f179926bdc774704a33feabd8cb79cd9",
       "version_major": 2,
       "version_minor": 0
      },
      "text/plain": [
       "HBox(children=(HTML(value='Pandas Apply'), FloatProgress(value=0.0, max=37981.0), HTML(value='')))"
      ]
     },
     "metadata": {},
     "output_type": "display_data"
    },
    {
     "name": "stdout",
     "output_type": "stream",
     "text": [
      "\n"
     ]
    },
    {
     "data": {
      "application/vnd.jupyter.widget-view+json": {
       "model_id": "88c373fe03b44f1cb266be8df9e5598a",
       "version_major": 2,
       "version_minor": 0
      },
      "text/plain": [
       "HBox(children=(HTML(value='Pandas Apply'), FloatProgress(value=0.0, max=37981.0), HTML(value='')))"
      ]
     },
     "metadata": {},
     "output_type": "display_data"
    },
    {
     "name": "stdout",
     "output_type": "stream",
     "text": [
      "\n",
      "CPU times: user 15.2 s, sys: 1.91 s, total: 17.1 s\n",
      "Wall time: 18.7 s\n"
     ]
    }
   ],
   "source": [
    "%%time\n",
    "result_df['k300_list'] = result_df['word_list'].apply(lambda word_list: word_list &  note_300)\n",
    "result_df['k300_mean_wv']  = result_df['k300_list'].swifter.apply(lambda word_list : convert_to_vector(word_list))\n",
    "result_df['k400_list'] = result_df['word_list'].apply(lambda word_list: word_list & note_400)\n",
    "result_df['k400_mean_wv']  = result_df['k400_list'].swifter.apply(lambda word_list : convert_to_vector(word_list))\n",
    "result_df['k500_list'] = result_df['word_list'].apply(lambda word_list: word_list & note_500)\n",
    "result_df['k500_mean_wv']  = result_df['k500_list'].swifter.apply(lambda word_list : convert_to_vector(word_list))\n",
    "result_df['k600_list'] = result_df['word_list'].apply(lambda word_list: word_list & note_600)\n",
    "result_df['k600_mean_wv']  = result_df['k500_list'].swifter.apply(lambda word_list : convert_to_vector(word_list))\n",
    "result_df['k900_list'] = result_df['word_list'].apply(lambda word_list: word_list & note_900)  # 겹치는 항목 없이 별도 추출\n",
    "result_df['k900_mean_wv']  = result_df['k500_list'].swifter.apply(lambda word_list : convert_to_vector(word_list))\n",
    "\n",
    "with open('/home/mimic/Data/pickle/keyword_discharge_note_wv.pk', 'wb') as f:\n",
    "    pickle.dump(result_df, f, pickle.HIGHEST_PROTOCOL)"
   ]
  },
  {
   "cell_type": "code",
   "execution_count": 68,
   "metadata": {},
   "outputs": [
    {
     "data": {
      "text/html": [
       "<div>\n",
       "<style scoped>\n",
       "    .dataframe tbody tr th:only-of-type {\n",
       "        vertical-align: middle;\n",
       "    }\n",
       "\n",
       "    .dataframe tbody tr th {\n",
       "        vertical-align: top;\n",
       "    }\n",
       "\n",
       "    .dataframe thead th {\n",
       "        text-align: right;\n",
       "    }\n",
       "</style>\n",
       "<table border=\"1\" class=\"dataframe\">\n",
       "  <thead>\n",
       "    <tr style=\"text-align: right;\">\n",
       "      <th></th>\n",
       "      <th>SUBJECT_ID</th>\n",
       "      <th>HADM_ID</th>\n",
       "      <th>ICUSTAY_ID</th>\n",
       "      <th>TEXT</th>\n",
       "      <th>word_list</th>\n",
       "      <th>mean_wv</th>\n",
       "      <th>k300_list</th>\n",
       "      <th>k300_mean_wv</th>\n",
       "      <th>k400_list</th>\n",
       "      <th>k400_mean_wv</th>\n",
       "      <th>k500_list</th>\n",
       "      <th>k500_mean_wv</th>\n",
       "      <th>k600_list</th>\n",
       "      <th>k600_mean_wv</th>\n",
       "      <th>k900_list</th>\n",
       "      <th>k900_mean_wv</th>\n",
       "    </tr>\n",
       "  </thead>\n",
       "  <tbody>\n",
       "    <tr>\n",
       "      <th>0</th>\n",
       "      <td>3</td>\n",
       "      <td>145834.0</td>\n",
       "      <td>211552</td>\n",
       "      <td>Admission Date:  [**2101-10-20**]     Discharg...</td>\n",
       "      <td>{q.4, 3-vessel disease, metoprolol, atenolol, ...</td>\n",
       "      <td>[0.320220878461794, 0.03231701895366518, -0.28...</td>\n",
       "      <td>{ulcers, wheezing, hypotension, hypoxia, tachy...</td>\n",
       "      <td>[0.01767680738121271, 0.2923035994172096, -0.2...</td>\n",
       "      <td>{ulcers, furosemide, fluconazole, amiodarone, ...</td>\n",
       "      <td>[0.34048854805190454, -0.0165365453470837, -0....</td>\n",
       "      <td>{ulcers, furosemide, fluconazole, amiodarone, ...</td>\n",
       "      <td>[0.31337650236673653, 0.050148998076717057, -0...</td>\n",
       "      <td>{ulcers, furosemide, fluconazole, amiodarone, ...</td>\n",
       "      <td>[0.31337650236673653, 0.050148998076717057, -0...</td>\n",
       "      <td>{ulcers, hypercholesterolemia, pertinent, whee...</td>\n",
       "      <td>[0.31337650236673653, 0.050148998076717057, -0...</td>\n",
       "    </tr>\n",
       "    <tr>\n",
       "      <th>1</th>\n",
       "      <td>4</td>\n",
       "      <td>185777.0</td>\n",
       "      <td>294638</td>\n",
       "      <td>Admission Date:  [**2191-3-16**]     Discharge...</td>\n",
       "      <td>{lantus, rash, fatigue, pneumocystis carinii, ...</td>\n",
       "      <td>[0.21231900266296155, 0.11549778116514554, -0....</td>\n",
       "      <td>{pneumonia, hypothyroidism, dyspnea, fevers}</td>\n",
       "      <td>[-0.09185649687424302, 0.5237937457859516, -0....</td>\n",
       "      <td>{pneumonia, prednisone, nausea, dyspnea, fever...</td>\n",
       "      <td>[0.16540342862052576, 0.1545292820249285, -0.1...</td>\n",
       "      <td>{pneumonia, prednisone, nausea, dyspnea, fever...</td>\n",
       "      <td>[0.2055454987566918, 0.11993937194347382, -0.1...</td>\n",
       "      <td>{pneumonia, prednisone, nausea, dyspnea, fever...</td>\n",
       "      <td>[0.2055454987566918, 0.11993937194347382, -0.1...</td>\n",
       "      <td>{pneumonia, myalgias, fatigue, fibrosis, chill...</td>\n",
       "      <td>[0.2055454987566918, 0.11993937194347382, -0.1...</td>\n",
       "    </tr>\n",
       "    <tr>\n",
       "      <th>2</th>\n",
       "      <td>12</td>\n",
       "      <td>112213.0</td>\n",
       "      <td>232669</td>\n",
       "      <td>Admission Date:  [**2104-8-7**]     Discharge ...</td>\n",
       "      <td>{allopurinol, atenolol, lymphadenopathy, cyano...</td>\n",
       "      <td>[0.17977227432032425, 0.3296726663907369, -0.3...</td>\n",
       "      <td>{jaundiced, edema, asystolic}</td>\n",
       "      <td>[-0.09920000036557515, 0.18325999875863394, -0...</td>\n",
       "      <td>{jaundiced, edema, asystolic}</td>\n",
       "      <td>[-0.09920000036557515, 0.18325999875863394, -0...</td>\n",
       "      <td>{jaundiced, haldol, hypertension, edema, asyst...</td>\n",
       "      <td>[-0.20152320079505442, 0.34668799340724943, -0...</td>\n",
       "      <td>{jaundiced, haldol, hypertension, edema, asyst...</td>\n",
       "      <td>[-0.20152320079505442, 0.34668799340724943, -0...</td>\n",
       "      <td>{jaundiced, lymphadenopathy, agitation, clubbi...</td>\n",
       "      <td>[-0.20152320079505442, 0.34668799340724943, -0...</td>\n",
       "    </tr>\n",
       "    <tr>\n",
       "      <th>3</th>\n",
       "      <td>13</td>\n",
       "      <td>143045.0</td>\n",
       "      <td>263738</td>\n",
       "      <td>Admission Date:  [**2167-1-8**]       Discharg...</td>\n",
       "      <td>{back pain, metoprolol, euglycemia, atenolol, ...</td>\n",
       "      <td>[0.33918255337170866, 0.19825733437104837, -0....</td>\n",
       "      <td>{obesity, hyperglycemia, infarction}</td>\n",
       "      <td>[0.3263743395606677, 0.5349100132783254, -0.13...</td>\n",
       "      <td>{nitroglycerin, hyperglycemia, infarction, nau...</td>\n",
       "      <td>[0.3651686057448387, 0.40142000615596773, -0.3...</td>\n",
       "      <td>{nitroglycerin, hyperglycemia, infarction, hyp...</td>\n",
       "      <td>[0.30683117142568034, 0.46513166775306064, -0....</td>\n",
       "      <td>{nitroglycerin, hyperglycemia, infarction, hyp...</td>\n",
       "      <td>[0.30683117142568034, 0.46513166775306064, -0....</td>\n",
       "      <td>{euglycemia, hyperglycemia, constipation, infa...</td>\n",
       "      <td>[0.30683117142568034, 0.46513166775306064, -0....</td>\n",
       "    </tr>\n",
       "    <tr>\n",
       "      <th>4</th>\n",
       "      <td>17</td>\n",
       "      <td>161087.0</td>\n",
       "      <td>257980</td>\n",
       "      <td>Admission Date:  [**2135-5-9**]              D...</td>\n",
       "      <td>{pleural effusion, metoprolol tartrate, cardio...</td>\n",
       "      <td>[-0.0037960425357926974, 0.27882304292341525, ...</td>\n",
       "      <td>{depression, anxiety, anxiety/depression, hypo...</td>\n",
       "      <td>[-0.34851058945059776, 0.5781935974955559, -0....</td>\n",
       "      <td>{furosemide, depression, anxiety, anxiety/depr...</td>\n",
       "      <td>[-0.07847756307039942, 0.2979339946593557, -0....</td>\n",
       "      <td>{furosemide, depression, anxiety, anxiety/depr...</td>\n",
       "      <td>[-0.07847756307039942, 0.2979339946593557, -0....</td>\n",
       "      <td>{furosemide, depression, anxiety, anxiety/depr...</td>\n",
       "      <td>[-0.07847756307039942, 0.2979339946593557, -0....</td>\n",
       "      <td>{depression, anxiety, anxiety/depression, hypo...</td>\n",
       "      <td>[-0.07847756307039942, 0.2979339946593557, -0....</td>\n",
       "    </tr>\n",
       "  </tbody>\n",
       "</table>\n",
       "</div>"
      ],
      "text/plain": [
       "   SUBJECT_ID   HADM_ID  ICUSTAY_ID  \\\n",
       "0           3  145834.0      211552   \n",
       "1           4  185777.0      294638   \n",
       "2          12  112213.0      232669   \n",
       "3          13  143045.0      263738   \n",
       "4          17  161087.0      257980   \n",
       "\n",
       "                                                TEXT  \\\n",
       "0  Admission Date:  [**2101-10-20**]     Discharg...   \n",
       "1  Admission Date:  [**2191-3-16**]     Discharge...   \n",
       "2  Admission Date:  [**2104-8-7**]     Discharge ...   \n",
       "3  Admission Date:  [**2167-1-8**]       Discharg...   \n",
       "4  Admission Date:  [**2135-5-9**]              D...   \n",
       "\n",
       "                                           word_list  \\\n",
       "0  {q.4, 3-vessel disease, metoprolol, atenolol, ...   \n",
       "1  {lantus, rash, fatigue, pneumocystis carinii, ...   \n",
       "2  {allopurinol, atenolol, lymphadenopathy, cyano...   \n",
       "3  {back pain, metoprolol, euglycemia, atenolol, ...   \n",
       "4  {pleural effusion, metoprolol tartrate, cardio...   \n",
       "\n",
       "                                             mean_wv  \\\n",
       "0  [0.320220878461794, 0.03231701895366518, -0.28...   \n",
       "1  [0.21231900266296155, 0.11549778116514554, -0....   \n",
       "2  [0.17977227432032425, 0.3296726663907369, -0.3...   \n",
       "3  [0.33918255337170866, 0.19825733437104837, -0....   \n",
       "4  [-0.0037960425357926974, 0.27882304292341525, ...   \n",
       "\n",
       "                                           k300_list  \\\n",
       "0  {ulcers, wheezing, hypotension, hypoxia, tachy...   \n",
       "1       {pneumonia, hypothyroidism, dyspnea, fevers}   \n",
       "2                      {jaundiced, edema, asystolic}   \n",
       "3               {obesity, hyperglycemia, infarction}   \n",
       "4  {depression, anxiety, anxiety/depression, hypo...   \n",
       "\n",
       "                                        k300_mean_wv  \\\n",
       "0  [0.01767680738121271, 0.2923035994172096, -0.2...   \n",
       "1  [-0.09185649687424302, 0.5237937457859516, -0....   \n",
       "2  [-0.09920000036557515, 0.18325999875863394, -0...   \n",
       "3  [0.3263743395606677, 0.5349100132783254, -0.13...   \n",
       "4  [-0.34851058945059776, 0.5781935974955559, -0....   \n",
       "\n",
       "                                           k400_list  \\\n",
       "0  {ulcers, furosemide, fluconazole, amiodarone, ...   \n",
       "1  {pneumonia, prednisone, nausea, dyspnea, fever...   \n",
       "2                      {jaundiced, edema, asystolic}   \n",
       "3  {nitroglycerin, hyperglycemia, infarction, nau...   \n",
       "4  {furosemide, depression, anxiety, anxiety/depr...   \n",
       "\n",
       "                                        k400_mean_wv  \\\n",
       "0  [0.34048854805190454, -0.0165365453470837, -0....   \n",
       "1  [0.16540342862052576, 0.1545292820249285, -0.1...   \n",
       "2  [-0.09920000036557515, 0.18325999875863394, -0...   \n",
       "3  [0.3651686057448387, 0.40142000615596773, -0.3...   \n",
       "4  [-0.07847756307039942, 0.2979339946593557, -0....   \n",
       "\n",
       "                                           k500_list  \\\n",
       "0  {ulcers, furosemide, fluconazole, amiodarone, ...   \n",
       "1  {pneumonia, prednisone, nausea, dyspnea, fever...   \n",
       "2  {jaundiced, haldol, hypertension, edema, asyst...   \n",
       "3  {nitroglycerin, hyperglycemia, infarction, hyp...   \n",
       "4  {furosemide, depression, anxiety, anxiety/depr...   \n",
       "\n",
       "                                        k500_mean_wv  \\\n",
       "0  [0.31337650236673653, 0.050148998076717057, -0...   \n",
       "1  [0.2055454987566918, 0.11993937194347382, -0.1...   \n",
       "2  [-0.20152320079505442, 0.34668799340724943, -0...   \n",
       "3  [0.30683117142568034, 0.46513166775306064, -0....   \n",
       "4  [-0.07847756307039942, 0.2979339946593557, -0....   \n",
       "\n",
       "                                           k600_list  \\\n",
       "0  {ulcers, furosemide, fluconazole, amiodarone, ...   \n",
       "1  {pneumonia, prednisone, nausea, dyspnea, fever...   \n",
       "2  {jaundiced, haldol, hypertension, edema, asyst...   \n",
       "3  {nitroglycerin, hyperglycemia, infarction, hyp...   \n",
       "4  {furosemide, depression, anxiety, anxiety/depr...   \n",
       "\n",
       "                                        k600_mean_wv  \\\n",
       "0  [0.31337650236673653, 0.050148998076717057, -0...   \n",
       "1  [0.2055454987566918, 0.11993937194347382, -0.1...   \n",
       "2  [-0.20152320079505442, 0.34668799340724943, -0...   \n",
       "3  [0.30683117142568034, 0.46513166775306064, -0....   \n",
       "4  [-0.07847756307039942, 0.2979339946593557, -0....   \n",
       "\n",
       "                                           k900_list  \\\n",
       "0  {ulcers, hypercholesterolemia, pertinent, whee...   \n",
       "1  {pneumonia, myalgias, fatigue, fibrosis, chill...   \n",
       "2  {jaundiced, lymphadenopathy, agitation, clubbi...   \n",
       "3  {euglycemia, hyperglycemia, constipation, infa...   \n",
       "4  {depression, anxiety, anxiety/depression, hypo...   \n",
       "\n",
       "                                        k900_mean_wv  \n",
       "0  [0.31337650236673653, 0.050148998076717057, -0...  \n",
       "1  [0.2055454987566918, 0.11993937194347382, -0.1...  \n",
       "2  [-0.20152320079505442, 0.34668799340724943, -0...  \n",
       "3  [0.30683117142568034, 0.46513166775306064, -0....  \n",
       "4  [-0.07847756307039942, 0.2979339946593557, -0....  "
      ]
     },
     "execution_count": 68,
     "metadata": {},
     "output_type": "execute_result"
    }
   ],
   "source": [
    "result_df.head()"
   ]
  },
  {
   "cell_type": "code",
   "execution_count": 71,
   "metadata": {},
   "outputs": [
    {
     "data": {
      "text/plain": [
       "(57.75263947763355,\n",
       " 5.178984228956583,\n",
       " 7.133040204312683,\n",
       " 9.071720070561597,\n",
       " 9.190753271372529,\n",
       " 10.839340722993075)"
      ]
     },
     "execution_count": 71,
     "metadata": {},
     "output_type": "execute_result"
    }
   ],
   "source": [
    "np.mean(result_df['word_list'].apply(lambda l: len(l))), \\\n",
    "np.mean(result_df['k300_list'].apply(lambda l: len(l))), \\\n",
    "np.mean(result_df['k400_list'].apply(lambda l: len(l))), \\\n",
    "np.mean(result_df['k500_list'].apply(lambda l: len(l))), \\\n",
    "np.mean(result_df['k600_list'].apply(lambda l: len(l))), \\\n",
    "np.mean(result_df['k900_list'].apply(lambda l: len(l)))"
   ]
  },
  {
   "cell_type": "code",
   "execution_count": 72,
   "metadata": {},
   "outputs": [
    {
     "data": {
      "text/plain": [
       "(0.00018430267765461679,\n",
       " 0.04818198572970696,\n",
       " 0.0218003738711461,\n",
       " 0.009583739238040073,\n",
       " 0.009346778652484136,\n",
       " 0.006213633132355651)"
      ]
     },
     "execution_count": 72,
     "metadata": {},
     "output_type": "execute_result"
    }
   ],
   "source": [
    "np.mean(result_df['word_list'].apply(lambda l: len(l)) == 0), \\\n",
    "np.mean(result_df['k300_list'].apply(lambda l: len(l)) == 0), \\\n",
    "np.mean(result_df['k400_list'].apply(lambda l: len(l)) == 0), \\\n",
    "np.mean(result_df['k500_list'].apply(lambda l: len(l)) == 0), \\\n",
    "np.mean(result_df['k600_list'].apply(lambda l: len(l)) == 0), \\\n",
    "np.mean(result_df['k900_list'].apply(lambda l: len(l)) == 0)"
   ]
  },
  {
   "cell_type": "code",
   "execution_count": null,
   "metadata": {},
   "outputs": [],
   "source": []
  }
 ],
 "metadata": {
  "kernelspec": {
   "display_name": "Python 3",
   "language": "python",
   "name": "python3"
  },
  "language_info": {
   "codemirror_mode": {
    "name": "ipython",
    "version": 3
   },
   "file_extension": ".py",
   "mimetype": "text/x-python",
   "name": "python",
   "nbconvert_exporter": "python",
   "pygments_lexer": "ipython3",
   "version": "3.7.8"
  }
 },
 "nbformat": 4,
 "nbformat_minor": 4
}
